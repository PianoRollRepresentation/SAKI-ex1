{
 "cells": [
  {
   "cell_type": "code",
   "execution_count": 61,
   "metadata": {
    "collapsed": true
   },
   "outputs": [],
   "source": [
    "import pandas as pd\n",
    "from sklearn.model_selection import train_test_split\n",
    "from sklearn.naive_bayes import GaussianNB\n",
    "from sklearn.metrics import accuracy_score, f1_score\n"
   ]
  },
  {
   "cell_type": "code",
   "execution_count": 62,
   "outputs": [],
   "source": [
    "df = pd.read_csv('data.csv', sep=';')"
   ],
   "metadata": {
    "collapsed": false,
    "pycharm": {
     "name": "#%%\n"
    }
   }
  },
  {
   "cell_type": "code",
   "execution_count": 63,
   "outputs": [
    {
     "name": "stderr",
     "output_type": "stream",
     "text": [
      "<ipython-input-63-4409189cfc4c>:9: SettingWithCopyWarning: \n",
      "A value is trying to be set on a copy of a slice from a DataFrame.\n",
      "Try using .loc[row_indexer,col_indexer] = value instead\n",
      "\n",
      "See the caveats in the documentation: https://pandas.pydata.org/pandas-docs/stable/user_guide/indexing.html#returning-a-view-versus-a-copy\n",
      "  data['Auftragskonto'] = data['Auftragskonto'].fillna(0).astype(str)\n",
      "<ipython-input-63-4409189cfc4c>:12: SettingWithCopyWarning: \n",
      "A value is trying to be set on a copy of a slice from a DataFrame.\n",
      "Try using .loc[row_indexer,col_indexer] = value instead\n",
      "\n",
      "See the caveats in the documentation: https://pandas.pydata.org/pandas-docs/stable/user_guide/indexing.html#returning-a-view-versus-a-copy\n",
      "  data['Verwendungszweck'] = data['Verwendungszweck'].transform(lambda elem: ''.join(filter(str.isalpha, str(elem))))\n"
     ]
    },
    {
     "data": {
      "text/plain": "       Auftragskonto Buchungstag Valutadatum  \\\ncount            209         209         209   \nunique             3          85          85   \ntop       89990210.0  02.02.2016  02.02.2016   \nfreq             120           8           8   \n\n                             Buchungstext Verwendungszweck  \\\ncount                                 209              209   \nunique                                 14               67   \ntop     Lastschrift (Einzugsermächtigung)          VisaEur   \nfreq                                   94               23   \n\n       Beguenstigter/Zahlungspflichtiger Kontonummer       BLZ   Betrag  \\\ncount                                209         208       208      209   \nunique                                59          53        40       94   \ntop                        Kartenzahlung   922904916  25190001  2000.00   \nfreq                                  17          34        49       13   \n\n       Waehrung  \ncount       209  \nunique        1  \ntop         EUR  \nfreq        209  ",
      "text/html": "<div>\n<style scoped>\n    .dataframe tbody tr th:only-of-type {\n        vertical-align: middle;\n    }\n\n    .dataframe tbody tr th {\n        vertical-align: top;\n    }\n\n    .dataframe thead th {\n        text-align: right;\n    }\n</style>\n<table border=\"1\" class=\"dataframe\">\n  <thead>\n    <tr style=\"text-align: right;\">\n      <th></th>\n      <th>Auftragskonto</th>\n      <th>Buchungstag</th>\n      <th>Valutadatum</th>\n      <th>Buchungstext</th>\n      <th>Verwendungszweck</th>\n      <th>Beguenstigter/Zahlungspflichtiger</th>\n      <th>Kontonummer</th>\n      <th>BLZ</th>\n      <th>Betrag</th>\n      <th>Waehrung</th>\n    </tr>\n  </thead>\n  <tbody>\n    <tr>\n      <th>count</th>\n      <td>209</td>\n      <td>209</td>\n      <td>209</td>\n      <td>209</td>\n      <td>209</td>\n      <td>209</td>\n      <td>208</td>\n      <td>208</td>\n      <td>209</td>\n      <td>209</td>\n    </tr>\n    <tr>\n      <th>unique</th>\n      <td>3</td>\n      <td>85</td>\n      <td>85</td>\n      <td>14</td>\n      <td>67</td>\n      <td>59</td>\n      <td>53</td>\n      <td>40</td>\n      <td>94</td>\n      <td>1</td>\n    </tr>\n    <tr>\n      <th>top</th>\n      <td>89990210.0</td>\n      <td>02.02.2016</td>\n      <td>02.02.2016</td>\n      <td>Lastschrift (Einzugsermächtigung)</td>\n      <td>VisaEur</td>\n      <td>Kartenzahlung</td>\n      <td>922904916</td>\n      <td>25190001</td>\n      <td>2000.00</td>\n      <td>EUR</td>\n    </tr>\n    <tr>\n      <th>freq</th>\n      <td>120</td>\n      <td>8</td>\n      <td>8</td>\n      <td>94</td>\n      <td>23</td>\n      <td>17</td>\n      <td>34</td>\n      <td>49</td>\n      <td>13</td>\n      <td>209</td>\n    </tr>\n  </tbody>\n</table>\n</div>"
     },
     "execution_count": 63,
     "metadata": {},
     "output_type": "execute_result"
    }
   ],
   "source": [
    "# seperate into features and labels\n",
    "relevant_columns = ['Auftragskonto', 'Buchungstag', 'Valutadatum', 'Buchungstext', 'Verwendungszweck', 'Beguenstigter/Zahlungspflichtiger', 'Kontonummer', 'BLZ',\n",
    "                    'Betrag', 'Waehrung']\n",
    "labels = df['label']\n",
    "data = df[relevant_columns]\n",
    "\n",
    "# preprocess data\n",
    "# fill NaN values with 0s\n",
    "data['Auftragskonto'] = data['Auftragskonto'].fillna(0).astype(str)\n",
    "\n",
    "# remove all non-alphabetic values from 'Verwendungszweck' since we than only have the relevant info\n",
    "data['Verwendungszweck'] = data['Verwendungszweck'].transform(lambda elem: ''.join(filter(str.isalpha, str(elem))))\n",
    "\n",
    "data.describe()"
   ],
   "metadata": {
    "collapsed": false,
    "pycharm": {
     "name": "#%%\n"
    }
   }
  },
  {
   "cell_type": "code",
   "execution_count": 64,
   "outputs": [],
   "source": [
    "# choose only columns that give high-accuracy. See also last section for this\n",
    "columns_of_interest = ['Buchungstext', 'BLZ', 'Betrag']\n",
    "data_of_interest = data[columns_of_interest]"
   ],
   "metadata": {
    "collapsed": false,
    "pycharm": {
     "name": "#%%\n"
    }
   }
  },
  {
   "cell_type": "code",
   "execution_count": 65,
   "outputs": [
    {
     "name": "stdout",
     "output_type": "stream",
     "text": [
      "Accuracy score:  0.9433962264150944\n",
      "F1 score:  0.9433962264150944\n"
     ]
    }
   ],
   "source": [
    "def classify(input_data):\n",
    "    # feature-extraction\n",
    "    features = pd.get_dummies(input_data)\n",
    "\n",
    "    # split into training and test data\n",
    "    X_train, X_test, y_train, y_test = train_test_split(features, labels, random_state=1)\n",
    "\n",
    "    # fit our classifier to training data and predict labels for test data\n",
    "    gnb = GaussianNB()\n",
    "    gnb.fit(X_train, y_train)\n",
    "    y_pred = gnb.predict(X_test)\n",
    "\n",
    "    return X_train, X_test, y_pred, y_test\n",
    "\n",
    "\n",
    "# print('Number of rows in the total set: {}'.format(df.shape[0]))\n",
    "# print('Number of rows in the training set: {}'.format(X_train.shape[0]))\n",
    "# print('Number of rows in the test set: {}'.format(X_test.shape[0]))\n",
    "\n",
    "X_train, X_test, y_pred, y_test = classify(data_of_interest)\n",
    "print('Accuracy score: ', format(accuracy_score(y_test, y_pred)))\n",
    "print('F1 score: ', format(f1_score(y_test, y_pred, average='micro')))\n"
   ],
   "metadata": {
    "collapsed": false,
    "pycharm": {
     "name": "#%%\n"
    }
   }
  },
  {
   "cell_type": "code",
   "execution_count": 66,
   "outputs": [
    {
     "name": "stderr",
     "output_type": "stream",
     "text": [
      "c:\\users\\thorb\\pycharmprojects\\saki\\ex1\\venv\\lib\\site-packages\\sklearn\\naive_bayes.py:452: RuntimeWarning: divide by zero encountered in log\n",
      "  n_ij = - 0.5 * np.sum(np.log(2. * np.pi * self.sigma_[i, :]))\n",
      "c:\\users\\thorb\\pycharmprojects\\saki\\ex1\\venv\\lib\\site-packages\\sklearn\\naive_bayes.py:453: RuntimeWarning: invalid value encountered in true_divide\n",
      "  n_ij -= 0.5 * np.sum(((X - self.theta_[i, :]) ** 2) /\n"
     ]
    },
    {
     "name": "stdout",
     "output_type": "stream",
     "text": [
      "['Buchungstext', 'BLZ', 'Betrag']\n"
     ]
    }
   ],
   "source": [
    "## This part classifies the data for every combination of columns and prints the combination with the highest accuracy.\n",
    "## Thus we have proven that columns_of_interest is indeed the best choice of columns.\n",
    "\n",
    "import itertools\n",
    "\n",
    "# returns every combination of column_names for every length without considering order\n",
    "def get_all_combinations(column_names):\n",
    "    res = []\n",
    "    for i in range(1, len(column_names) + 1):\n",
    "        combinations = list(itertools.combinations(column_names, i))\n",
    "        combinations = [list(c) for c in combinations]\n",
    "        res.append(combinations)\n",
    "    return list(itertools.chain.from_iterable(res))\n",
    "\n",
    "column_combinations = get_all_combinations(relevant_columns)\n",
    "acc = []\n",
    "for col in column_combinations:\n",
    "    X_train, X_test, y_pred, y_test = classify(data[col])\n",
    "    acc.append(accuracy_score(y_pred, y_test))\n",
    "\n",
    "# get the maximum accuracy of all predictions\n",
    "max_acc = max(acc)\n",
    "\n",
    "# get the combination of columns that gives the highest accuracy\n",
    "max_col = acc.index(max_acc)\n",
    "print(column_combinations[max_col])\n"
   ],
   "metadata": {
    "collapsed": false,
    "pycharm": {
     "name": "#%%\n"
    }
   }
  }
 ],
 "metadata": {
  "kernelspec": {
   "display_name": "Python 3",
   "language": "python",
   "name": "python3"
  },
  "language_info": {
   "codemirror_mode": {
    "name": "ipython",
    "version": 2
   },
   "file_extension": ".py",
   "mimetype": "text/x-python",
   "name": "python",
   "nbconvert_exporter": "python",
   "pygments_lexer": "ipython2",
   "version": "2.7.6"
  }
 },
 "nbformat": 4,
 "nbformat_minor": 0
}
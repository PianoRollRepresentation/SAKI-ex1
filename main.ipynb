{
 "cells": [
  {
   "cell_type": "code",
   "execution_count": 1,
   "metadata": {
    "collapsed": true
   },
   "outputs": [],
   "source": [
    "import pandas as pd\n",
    "from sklearn.model_selection import train_test_split\n",
    "from sklearn import preprocessing\n"
   ]
  },
  {
   "cell_type": "code",
   "execution_count": 2,
   "outputs": [],
   "source": [
    "df = pd.read_csv('data.csv', sep=';')"
   ],
   "metadata": {
    "collapsed": false,
    "pycharm": {
     "name": "#%%\n"
    }
   }
  },
  {
   "cell_type": "code",
   "execution_count": 3,
   "outputs": [],
   "source": [
    "# filter only interesting data and seperate into features and labels\n",
    "features = df[['Buchungstext', 'Verwendungszweck', 'Beguenstigter/Zahlungspflichtiger',\n",
    "         'Kontonummer', 'BLZ', 'Betrag', 'Waehrung']]\n",
    "labels = df['label']\n"
   ],
   "metadata": {
    "collapsed": false,
    "pycharm": {
     "name": "#%%\n"
    }
   }
  },
  {
   "cell_type": "code",
   "execution_count": 4,
   "outputs": [
    {
     "name": "stdout",
     "output_type": "stream",
     "text": [
      "0      10\n",
      "1      11\n",
      "2       1\n",
      "3       9\n",
      "4      13\n",
      "       ..\n",
      "204    12\n",
      "205     7\n",
      "206    10\n",
      "207     7\n",
      "208     8\n",
      "Name: Buchungstext, Length: 209, dtype: int32\n"
     ]
    },
    {
     "name": "stderr",
     "output_type": "stream",
     "text": [
      "<ipython-input-4-3f539be12158>:2: SettingWithCopyWarning: \n",
      "A value is trying to be set on a copy of a slice from a DataFrame.\n",
      "Try using .loc[row_indexer,col_indexer] = value instead\n",
      "\n",
      "See the caveats in the documentation: https://pandas.pydata.org/pandas-docs/stable/user_guide/indexing.html#returning-a-view-versus-a-copy\n",
      "  features['Buchungstext'] = le.fit_transform(features['Buchungstext'])\n"
     ]
    }
   ],
   "source": [
    "le = preprocessing.LabelEncoder()\n",
    "features['Buchungstext'] = le.fit_transform(features['Buchungstext'])\n",
    "print(features['Buchungstext'])"
   ],
   "metadata": {
    "collapsed": false,
    "pycharm": {
     "name": "#%%\n"
    }
   }
  },
  {
   "cell_type": "code",
   "execution_count": 5,
   "outputs": [
    {
     "name": "stdout",
     "output_type": "stream",
     "text": [
      "0      27\n",
      "1      11\n",
      "2      53\n",
      "3      18\n",
      "4       4\n",
      "       ..\n",
      "204    39\n",
      "205    14\n",
      "206    27\n",
      "207    49\n",
      "208     0\n",
      "Name: Verwendungszweck, Length: 209, dtype: int32\n"
     ]
    },
    {
     "name": "stderr",
     "output_type": "stream",
     "text": [
      "<ipython-input-5-03547a6021ac>:2: SettingWithCopyWarning: \n",
      "A value is trying to be set on a copy of a slice from a DataFrame.\n",
      "Try using .loc[row_indexer,col_indexer] = value instead\n",
      "\n",
      "See the caveats in the documentation: https://pandas.pydata.org/pandas-docs/stable/user_guide/indexing.html#returning-a-view-versus-a-copy\n",
      "  features['Verwendungszweck'] = list([''.join(filter(str.isalpha, elem)) for elem in features['Verwendungszweck']])\n",
      "<ipython-input-5-03547a6021ac>:3: SettingWithCopyWarning: \n",
      "A value is trying to be set on a copy of a slice from a DataFrame.\n",
      "Try using .loc[row_indexer,col_indexer] = value instead\n",
      "\n",
      "See the caveats in the documentation: https://pandas.pydata.org/pandas-docs/stable/user_guide/indexing.html#returning-a-view-versus-a-copy\n",
      "  features['Verwendungszweck'] = le.fit_transform(features['Verwendungszweck'])\n"
     ]
    }
   ],
   "source": [
    "x = 5\n",
    "features['Verwendungszweck'] = list([''.join(filter(str.isalpha, elem)) for elem in features['Verwendungszweck']])\n",
    "features['Verwendungszweck'] = le.fit_transform(features['Verwendungszweck'])\n",
    "print(features['Verwendungszweck'])"
   ],
   "metadata": {
    "collapsed": false,
    "pycharm": {
     "name": "#%%\n"
    }
   }
  },
  {
   "cell_type": "code",
   "execution_count": 6,
   "outputs": [
    {
     "name": "stdout",
     "output_type": "stream",
     "text": [
      "0       4\n",
      "1      30\n",
      "2      15\n",
      "3      39\n",
      "4      58\n",
      "       ..\n",
      "204    37\n",
      "205    42\n",
      "206     4\n",
      "207    23\n",
      "208    54\n",
      "Name: Beguenstigter/Zahlungspflichtiger, Length: 209, dtype: int32\n"
     ]
    },
    {
     "name": "stderr",
     "output_type": "stream",
     "text": [
      "<ipython-input-6-818cab7f6b0b>:1: SettingWithCopyWarning: \n",
      "A value is trying to be set on a copy of a slice from a DataFrame.\n",
      "Try using .loc[row_indexer,col_indexer] = value instead\n",
      "\n",
      "See the caveats in the documentation: https://pandas.pydata.org/pandas-docs/stable/user_guide/indexing.html#returning-a-view-versus-a-copy\n",
      "  features['Beguenstigter/Zahlungspflichtiger'] = le.fit_transform(features['Beguenstigter/Zahlungspflichtiger'])\n"
     ]
    }
   ],
   "source": [
    "features['Beguenstigter/Zahlungspflichtiger'] = le.fit_transform(features['Beguenstigter/Zahlungspflichtiger'])\n",
    "print(features['Beguenstigter/Zahlungspflichtiger'])\n"
   ],
   "metadata": {
    "collapsed": false,
    "pycharm": {
     "name": "#%%\n"
    }
   }
  },
  {
   "cell_type": "code",
   "execution_count": 7,
   "outputs": [],
   "source": [
    "#features['Kontonummer'] = le.fit_transform(features['Kontonummer'])\n",
    "#print(features['Kontonummer'])"
   ],
   "metadata": {
    "collapsed": false,
    "pycharm": {
     "name": "#%%\n"
    }
   }
  },
  {
   "cell_type": "code",
   "execution_count": 8,
   "outputs": [
    {
     "name": "stdout",
     "output_type": "stream",
     "text": [
      "Number of rows in the total set: 209\n",
      "Number of rows in the training set: 156\n",
      "Number of rows in the test set: 53\n"
     ]
    }
   ],
   "source": [
    "X_train, X_test, y_train, y_test = train_test_split(features, labels, random_state=1)\n",
    "print('Number of rows in the total set: {}'.format(df.shape[0]))\n",
    "print('Number of rows in the training set: {}'.format(X_train.shape[0]))\n",
    "print('Number of rows in the test set: {}'.format(X_test.shape[0]))"
   ],
   "metadata": {
    "collapsed": false,
    "pycharm": {
     "name": "#%%\n"
    }
   }
  }
 ],
 "metadata": {
  "kernelspec": {
   "display_name": "Python 3",
   "language": "python",
   "name": "python3"
  },
  "language_info": {
   "codemirror_mode": {
    "name": "ipython",
    "version": 2
   },
   "file_extension": ".py",
   "mimetype": "text/x-python",
   "name": "python",
   "nbconvert_exporter": "python",
   "pygments_lexer": "ipython2",
   "version": "2.7.6"
  }
 },
 "nbformat": 4,
 "nbformat_minor": 0
}
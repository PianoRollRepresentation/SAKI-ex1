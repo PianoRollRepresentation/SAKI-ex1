{
 "cells": [
  {
   "cell_type": "code",
   "execution_count": 661,
   "metadata": {
    "collapsed": true
   },
   "outputs": [],
   "source": [
    "import pandas as pd\n",
    "from sklearn.linear_model import LogisticRegression\n",
    "from sklearn.model_selection import train_test_split\n",
    "from sklearn import preprocessing\n",
    "from sklearn.naive_bayes import GaussianNB, MultinomialNB, BernoulliNB\n",
    "from sklearn.metrics import accuracy_score, precision_score, recall_score, f1_score\n",
    "from sklearn.ensemble import StackingClassifier\n",
    "from scipy import stats\n",
    "import seaborn as sns\n",
    "from scipy.stats import norm\n",
    "\n"
   ]
  },
  {
   "cell_type": "code",
   "execution_count": 662,
   "outputs": [],
   "source": [
    "df = pd.read_csv('data.csv', sep=';')"
   ],
   "metadata": {
    "collapsed": false,
    "pycharm": {
     "name": "#%%\n"
    }
   }
  },
  {
   "cell_type": "code",
   "execution_count": 663,
   "outputs": [],
   "source": [
    "# filter only interesting data and seperate into features and labels\n",
    "columns_of_interest = ['Buchungstext', 'Verwendungszweck', 'Beguenstigter/Zahlungspflichtiger',\n",
    "                       'Kontonummer', 'BLZ', 'Betrag']\n",
    "# GaussianNB: Betrag, BLZ (better MultinomialNB), Buchungstext (only Precision)\n",
    "# MultinomialNB: only BLZ and Buchungstext make difference\n",
    "# BernoulliNB: Betrag, BLZ, Kontonummer, Beguenstigter/Zahlungspflichtiger, Verwendungszweck (much)\n",
    "features = df[columns_of_interest]\n",
    "labels = df['label']\n",
    "\n",
    "features_splitted = [df[['Buchungstext', 'BLZ', 'Betrag']], df[['Buchungstext', 'Beguenstigter/Zahlungspflichtiger',\n",
    "                       'Kontonummer','BLZ']],\n",
    "            df[['Verwendungszweck', 'Beguenstigter/Zahlungspflichtiger', 'Kontonummer', 'BLZ', 'Betrag']]]\n"
   ],
   "metadata": {
    "collapsed": false,
    "pycharm": {
     "name": "#%%\n"
    }
   }
  },
  {
   "cell_type": "code",
   "execution_count": 664,
   "outputs": [],
   "source": [
    "def dates_to_days(dates):\n",
    "    dates = dates.transform(lambda elem: list(map(int, elem.split('.')))[0])\n",
    "    return dates\n",
    "\n",
    "#features['Buchungstag'] = dates_to_days(df['Buchungstag']) - dates_to_days(df['Valutadatum'])\n",
    "#features['Betrag'] = features['Betrag'].transform(lambda elem: float(elem.replace(',', '.')))\n",
    "#features['Verwendungszweck'] = features['Verwendungszweck'].transform(lambda elem: ''.join(filter(str.isalpha, str(elem))))\n",
    "\n",
    "#columns_to_stringify = ['Kontonummer', 'BLZ', 'Betrag']\n",
    "\n",
    "#for col in columns_to_stringify:\n",
    "#features[col] = features[col].transform(lambda elem: str(elem))\n",
    "\n",
    "#le = preprocessing.LabelEncoder()\n",
    "#for col in columns_of_interest:\n",
    "#features.loc[:, col] = le.fit_transform(features[col])\n",
    "#features[col] = features[col].transform(lambda elem: int(elem) + 1)\n",
    "#features[col], _ = stats.boxcox(features[col])\n",
    "#sns.distplot(features[col], fit=norm, kde=False)"
   ],
   "metadata": {
    "collapsed": false,
    "pycharm": {
     "name": "#%%\n"
    }
   }
  },
  {
   "cell_type": "code",
   "execution_count": 665,
   "outputs": [
    {
     "name": "stdout",
     "output_type": "stream",
     "text": [
      "Number of rows in the total set: 209\n",
      "Number of rows in the training set: 156\n",
      "Number of rows in the test set: 53\n"
     ]
    }
   ],
   "source": [
    "features = pd.get_dummies(features)\n",
    "features_splitted = [pd.get_dummies(features) for features in features_splitted]\n",
    "X_train, X_test, y_train, y_test = train_test_split(features, labels, random_state=1)\n",
    "\n",
    "X_train_gnb, X_test_gnb, y_train_gnb, y_test_gnb = train_test_split(features_splitted[0], labels, random_state=1)\n",
    "X_train_mnb, X_test_mnb, y_train_mnb, y_test_mnb = train_test_split(features_splitted[1], labels, random_state=1)\n",
    "X_train_bnb, X_test_bnb, y_train_bnb, y_test_bnb = train_test_split(features_splitted[2], labels, random_state=1)\n",
    "print('Number of rows in the total set: {}'.format(df.shape[0]))\n",
    "print('Number of rows in the training set: {}'.format(X_train.shape[0]))\n",
    "print('Number of rows in the test set: {}'.format(X_test.shape[0]))"
   ],
   "metadata": {
    "collapsed": false,
    "pycharm": {
     "name": "#%%\n"
    }
   }
  },
  {
   "cell_type": "code",
   "execution_count": 666,
   "outputs": [
    {
     "name": "stdout",
     "output_type": "stream",
     "text": [
      "Accuracy score:  0.9622641509433962\n",
      "Precision score:  0.9663461538461539\n"
     ]
    }
   ],
   "source": [
    "gnb = GaussianNB()\n",
    "mnb = MultinomialNB()\n",
    "bnb = BernoulliNB()\n",
    "#gnb.fit(X_train_gnb, y_train_gnb)\n",
    "#mnb.fit(X_train_mnb, y_train_mnb)\n",
    "#bnb.fit(X_train_bnb, y_train_bnb)\n",
    "\n",
    "estimators = [('gnb', gnb), ('mnb', mnb), ('bnb', bnb)]\n",
    "clf = StackingClassifier(estimators=estimators, final_estimator=gnb)\n",
    "clf.fit(X_train, y_train)\n",
    "y_pred = clf.predict(X_test)\n",
    "print('Accuracy score: ', format(accuracy_score(y_test, y_pred)))\n",
    "print('Precision score: ', format(precision_score(y_test, y_pred, average='macro')))\n",
    "#print('Recall score: ', format(recall_score(y_test, y_pred)))\n",
    "#print('F1 score: ', format(f1_score(y_test, y_pred)))"
   ],
   "metadata": {
    "collapsed": false,
    "pycharm": {
     "name": "#%%\n"
    }
   }
  }
 ],
 "metadata": {
  "kernelspec": {
   "display_name": "Python 3",
   "language": "python",
   "name": "python3"
  },
  "language_info": {
   "codemirror_mode": {
    "name": "ipython",
    "version": 2
   },
   "file_extension": ".py",
   "mimetype": "text/x-python",
   "name": "python",
   "nbconvert_exporter": "python",
   "pygments_lexer": "ipython2",
   "version": "2.7.6"
  }
 },
 "nbformat": 4,
 "nbformat_minor": 0
}
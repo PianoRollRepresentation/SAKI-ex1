{
 "cells": [
  {
   "cell_type": "code",
   "execution_count": 17,
   "metadata": {
    "collapsed": true
   },
   "outputs": [],
   "source": [
    "import pandas as pd\n",
    "from sklearn.model_selection import train_test_split\n",
    "from sklearn import preprocessing\n"
   ]
  },
  {
   "cell_type": "code",
   "execution_count": 18,
   "outputs": [],
   "source": [
    "df = pd.read_csv('data.csv', sep=';')"
   ],
   "metadata": {
    "collapsed": false,
    "pycharm": {
     "name": "#%%\n"
    }
   }
  },
  {
   "cell_type": "code",
   "execution_count": 19,
   "outputs": [],
   "source": [
    "# filter only interesting data and seperate into features and labels\n",
    "features = df[['Buchungstext', 'Verwendungszweck', 'Beguenstigter/Zahlungspflichtiger',\n",
    "         'Kontonummer', 'BLZ', 'Betrag']]\n",
    "labels = df['label']\n"
   ],
   "metadata": {
    "collapsed": false,
    "pycharm": {
     "name": "#%%\n"
    }
   }
  },
  {
   "cell_type": "code",
   "execution_count": 20,
   "outputs": [
    {
     "name": "stdout",
     "output_type": "stream",
     "text": [
      "0      10\n",
      "1      11\n",
      "2       1\n",
      "3       9\n",
      "4      13\n",
      "       ..\n",
      "204    12\n",
      "205     7\n",
      "206    10\n",
      "207     7\n",
      "208     8\n",
      "Name: Buchungstext, Length: 209, dtype: int32\n"
     ]
    },
    {
     "name": "stderr",
     "output_type": "stream",
     "text": [
      "<ipython-input-20-3f539be12158>:2: SettingWithCopyWarning: \n",
      "A value is trying to be set on a copy of a slice from a DataFrame.\n",
      "Try using .loc[row_indexer,col_indexer] = value instead\n",
      "\n",
      "See the caveats in the documentation: https://pandas.pydata.org/pandas-docs/stable/user_guide/indexing.html#returning-a-view-versus-a-copy\n",
      "  features['Buchungstext'] = le.fit_transform(features['Buchungstext'])\n"
     ]
    }
   ],
   "source": [
    "le = preprocessing.LabelEncoder()\n",
    "features['Buchungstext'] = le.fit_transform(features['Buchungstext'])\n",
    "print(features['Buchungstext'])"
   ],
   "metadata": {
    "collapsed": false,
    "pycharm": {
     "name": "#%%\n"
    }
   }
  },
  {
   "cell_type": "code",
   "execution_count": 21,
   "outputs": [
    {
     "name": "stdout",
     "output_type": "stream",
     "text": [
      "0      27\n",
      "1      11\n",
      "2      53\n",
      "3      18\n",
      "4       4\n",
      "       ..\n",
      "204    39\n",
      "205    14\n",
      "206    27\n",
      "207    49\n",
      "208     0\n",
      "Name: Verwendungszweck, Length: 209, dtype: int32\n"
     ]
    },
    {
     "name": "stderr",
     "output_type": "stream",
     "text": [
      "<ipython-input-21-3e6991a4d54d>:1: SettingWithCopyWarning: \n",
      "A value is trying to be set on a copy of a slice from a DataFrame.\n",
      "Try using .loc[row_indexer,col_indexer] = value instead\n",
      "\n",
      "See the caveats in the documentation: https://pandas.pydata.org/pandas-docs/stable/user_guide/indexing.html#returning-a-view-versus-a-copy\n",
      "  features['Verwendungszweck'] = features['Verwendungszweck'].transform(lambda elem: ''.join(filter(str.isalpha, str(elem))))\n",
      "<ipython-input-21-3e6991a4d54d>:2: SettingWithCopyWarning: \n",
      "A value is trying to be set on a copy of a slice from a DataFrame.\n",
      "Try using .loc[row_indexer,col_indexer] = value instead\n",
      "\n",
      "See the caveats in the documentation: https://pandas.pydata.org/pandas-docs/stable/user_guide/indexing.html#returning-a-view-versus-a-copy\n",
      "  features['Verwendungszweck'] = le.fit_transform(features['Verwendungszweck'])\n"
     ]
    }
   ],
   "source": [
    "features['Verwendungszweck'] = features['Verwendungszweck'].transform(lambda elem: ''.join(filter(str.isalpha, str(elem))))\n",
    "features['Verwendungszweck'] = le.fit_transform(features['Verwendungszweck'])\n",
    "print(features['Verwendungszweck'])"
   ],
   "metadata": {
    "collapsed": false,
    "pycharm": {
     "name": "#%%\n"
    }
   }
  },
  {
   "cell_type": "code",
   "execution_count": 22,
   "outputs": [
    {
     "name": "stdout",
     "output_type": "stream",
     "text": [
      "0       4\n",
      "1      30\n",
      "2      15\n",
      "3      39\n",
      "4      58\n",
      "       ..\n",
      "204    37\n",
      "205    42\n",
      "206     4\n",
      "207    23\n",
      "208    54\n",
      "Name: Beguenstigter/Zahlungspflichtiger, Length: 209, dtype: int32\n"
     ]
    },
    {
     "name": "stderr",
     "output_type": "stream",
     "text": [
      "<ipython-input-22-818cab7f6b0b>:1: SettingWithCopyWarning: \n",
      "A value is trying to be set on a copy of a slice from a DataFrame.\n",
      "Try using .loc[row_indexer,col_indexer] = value instead\n",
      "\n",
      "See the caveats in the documentation: https://pandas.pydata.org/pandas-docs/stable/user_guide/indexing.html#returning-a-view-versus-a-copy\n",
      "  features['Beguenstigter/Zahlungspflichtiger'] = le.fit_transform(features['Beguenstigter/Zahlungspflichtiger'])\n"
     ]
    }
   ],
   "source": [
    "features['Beguenstigter/Zahlungspflichtiger'] = le.fit_transform(features['Beguenstigter/Zahlungspflichtiger'])\n",
    "print(features['Beguenstigter/Zahlungspflichtiger'])\n"
   ],
   "metadata": {
    "collapsed": false,
    "pycharm": {
     "name": "#%%\n"
    }
   }
  },
  {
   "cell_type": "code",
   "execution_count": 23,
   "outputs": [
    {
     "name": "stdout",
     "output_type": "stream",
     "text": [
      "0       1\n",
      "1      13\n",
      "2       5\n",
      "3       3\n",
      "4       4\n",
      "       ..\n",
      "204    14\n",
      "205    36\n",
      "206     1\n",
      "207    15\n",
      "208    48\n",
      "Name: Kontonummer, Length: 209, dtype: int32\n"
     ]
    },
    {
     "name": "stderr",
     "output_type": "stream",
     "text": [
      "<ipython-input-23-5c743f96800a>:1: SettingWithCopyWarning: \n",
      "A value is trying to be set on a copy of a slice from a DataFrame.\n",
      "Try using .loc[row_indexer,col_indexer] = value instead\n",
      "\n",
      "See the caveats in the documentation: https://pandas.pydata.org/pandas-docs/stable/user_guide/indexing.html#returning-a-view-versus-a-copy\n",
      "  features['Kontonummer'] = features['Kontonummer'].transform(lambda elem: str(elem))\n",
      "<ipython-input-23-5c743f96800a>:2: SettingWithCopyWarning: \n",
      "A value is trying to be set on a copy of a slice from a DataFrame.\n",
      "Try using .loc[row_indexer,col_indexer] = value instead\n",
      "\n",
      "See the caveats in the documentation: https://pandas.pydata.org/pandas-docs/stable/user_guide/indexing.html#returning-a-view-versus-a-copy\n",
      "  features['Kontonummer'] = le.fit_transform(features['Kontonummer'])\n"
     ]
    }
   ],
   "source": [
    "features['Kontonummer'] = features['Kontonummer'].transform(lambda elem: str(elem))\n",
    "features['Kontonummer'] = le.fit_transform(features['Kontonummer'])\n",
    "print(features['Kontonummer'])"
   ],
   "metadata": {
    "collapsed": false,
    "pycharm": {
     "name": "#%%\n"
    }
   }
  },
  {
   "cell_type": "code",
   "execution_count": 24,
   "outputs": [
    {
     "name": "stdout",
     "output_type": "stream",
     "text": [
      "0       1\n",
      "1      38\n",
      "2       1\n",
      "3       1\n",
      "4       0\n",
      "       ..\n",
      "204    38\n",
      "205    23\n",
      "206     1\n",
      "207    38\n",
      "208    35\n",
      "Name: BLZ, Length: 209, dtype: int32\n"
     ]
    },
    {
     "name": "stderr",
     "output_type": "stream",
     "text": [
      "<ipython-input-24-10b9af225b15>:1: SettingWithCopyWarning: \n",
      "A value is trying to be set on a copy of a slice from a DataFrame.\n",
      "Try using .loc[row_indexer,col_indexer] = value instead\n",
      "\n",
      "See the caveats in the documentation: https://pandas.pydata.org/pandas-docs/stable/user_guide/indexing.html#returning-a-view-versus-a-copy\n",
      "  features['BLZ'] = features['BLZ'].transform(lambda elem: str(elem))\n",
      "<ipython-input-24-10b9af225b15>:2: SettingWithCopyWarning: \n",
      "A value is trying to be set on a copy of a slice from a DataFrame.\n",
      "Try using .loc[row_indexer,col_indexer] = value instead\n",
      "\n",
      "See the caveats in the documentation: https://pandas.pydata.org/pandas-docs/stable/user_guide/indexing.html#returning-a-view-versus-a-copy\n",
      "  features['BLZ'] = le.fit_transform(features['BLZ'])\n"
     ]
    }
   ],
   "source": [
    "features['BLZ'] = features['BLZ'].transform(lambda elem: str(elem))\n",
    "features['BLZ'] = le.fit_transform(features['BLZ'])\n",
    "print(features['BLZ'])"
   ],
   "metadata": {
    "collapsed": false,
    "pycharm": {
     "name": "#%%\n"
    }
   }
  },
  {
   "cell_type": "code",
   "execution_count": 25,
   "outputs": [
    {
     "name": "stdout",
     "output_type": "stream",
     "text": [
      "0      88\n",
      "1      72\n",
      "2      77\n",
      "3      78\n",
      "4      49\n",
      "       ..\n",
      "204    87\n",
      "205    42\n",
      "206    88\n",
      "207    55\n",
      "208    65\n",
      "Name: Betrag, Length: 209, dtype: int32\n"
     ]
    },
    {
     "name": "stderr",
     "output_type": "stream",
     "text": [
      "<ipython-input-25-f23c7b92c77b>:1: SettingWithCopyWarning: \n",
      "A value is trying to be set on a copy of a slice from a DataFrame.\n",
      "Try using .loc[row_indexer,col_indexer] = value instead\n",
      "\n",
      "See the caveats in the documentation: https://pandas.pydata.org/pandas-docs/stable/user_guide/indexing.html#returning-a-view-versus-a-copy\n",
      "  features['Betrag'] = features['Betrag'].transform(lambda elem: str(elem))\n",
      "<ipython-input-25-f23c7b92c77b>:2: SettingWithCopyWarning: \n",
      "A value is trying to be set on a copy of a slice from a DataFrame.\n",
      "Try using .loc[row_indexer,col_indexer] = value instead\n",
      "\n",
      "See the caveats in the documentation: https://pandas.pydata.org/pandas-docs/stable/user_guide/indexing.html#returning-a-view-versus-a-copy\n",
      "  features['Betrag'] = le.fit_transform(features['Betrag'])\n"
     ]
    }
   ],
   "source": [
    "features['Betrag'] = features['Betrag'].transform(lambda elem: str(elem))\n",
    "features['Betrag'] = le.fit_transform(features['Betrag'])\n",
    "print(features['Betrag'])"
   ],
   "metadata": {
    "collapsed": false,
    "pycharm": {
     "name": "#%%\n"
    }
   }
  },
  {
   "cell_type": "code",
   "execution_count": 26,
   "outputs": [
    {
     "name": "stdout",
     "output_type": "stream",
     "text": [
      "Number of rows in the total set: 209\n",
      "Number of rows in the training set: 156\n",
      "Number of rows in the test set: 53\n"
     ]
    }
   ],
   "source": [
    "X_train, X_test, y_train, y_test = train_test_split(features, labels, random_state=1)\n",
    "print('Number of rows in the total set: {}'.format(df.shape[0]))\n",
    "print('Number of rows in the training set: {}'.format(X_train.shape[0]))\n",
    "print('Number of rows in the test set: {}'.format(X_test.shape[0]))"
   ],
   "metadata": {
    "collapsed": false,
    "pycharm": {
     "name": "#%%\n"
    }
   }
  }
 ],
 "metadata": {
  "kernelspec": {
   "display_name": "Python 3",
   "language": "python",
   "name": "python3"
  },
  "language_info": {
   "codemirror_mode": {
    "name": "ipython",
    "version": 2
   },
   "file_extension": ".py",
   "mimetype": "text/x-python",
   "name": "python",
   "nbconvert_exporter": "python",
   "pygments_lexer": "ipython2",
   "version": "2.7.6"
  }
 },
 "nbformat": 4,
 "nbformat_minor": 0
}